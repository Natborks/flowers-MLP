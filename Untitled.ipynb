{
 "cells": [
  {
   "cell_type": "code",
   "execution_count": 91,
   "metadata": {},
   "outputs": [],
   "source": [
    "import numpy as np\n",
    "import torch\n",
    "from torchvision import datasets, transforms\n",
    "import helper"
   ]
  },
  {
   "cell_type": "code",
   "execution_count": 92,
   "metadata": {},
   "outputs": [],
   "source": [
    "data_dir = 'flowers'\n",
    "\n",
    "\n",
    "transform = transforms.Compose([transforms.Resize(255),\n",
    "                              transforms.CenterCrop(32),\n",
    "                              transforms.ToTensor()])\n",
    "\n",
    "dataset = datasets.ImageFolder(data_dir, transform)\n",
    "dataloader = torch.utils.data.DataLoader(dataset, batch_size=32, shuffle=True)\n"
   ]
  },
  {
   "cell_type": "code",
   "execution_count": 93,
   "metadata": {},
   "outputs": [
    {
     "name": "stdout",
     "output_type": "stream",
     "text": [
      "tensor(0)\n"
     ]
    },
    {
     "data": {
      "text/plain": [
       "<matplotlib.axes._subplots.AxesSubplot at 0x7f12ce1cc748>"
      ]
     },
     "execution_count": 93,
     "metadata": {},
     "output_type": "execute_result"
    },
    {
     "data": {
      "image/png": "[encoded data removed]",
      "text/plain": [
       "<Figure size 432x288 with 1 Axes>"
      ]
     },
     "metadata": {
      "image/png": {
       "height": 233,
       "width": 233
      },
      "needs_background": "light"
     },
     "output_type": "display_data"
    }
   ],
   "source": [
    "import matplotlib.pyplot as plt\n",
    "%matplotlib inline\n",
    "    \n",
    "# obtain one batch of training images\n",
    "dataiter = iter(dataloader)\n",
    "images, labels = dataiter.next()\n",
    "\n",
    "print(labels[1])\n",
    "helper.imshow(images[0], normalize=False)\n",
    "\n"
   ]
  },
  {
   "cell_type": "code",
   "execution_count": 94,
   "metadata": {},
   "outputs": [],
   "source": [
    "from torch.utils.data.sampler import SubsetRandomSampler\n",
    "# number of subprocesses to use for data loading\n",
    "num_workers = 0\n",
    "\n",
    "valid_size = 0.2\n",
    "\n",
    "train_transform = transforms.Compose([transforms.RandomRotation(30),\n",
    "                                    transforms.RandomResizedCrop(32),\n",
    "                                    transforms.RandomHorizontalFlip(),\n",
    "                                    transforms.ToTensor(),\n",
    "                                    transforms.Normalize([0.5,0.5,0.5],\n",
    "                                                         [0.5,0.5,0.5]\n",
    "                                                        )])\n",
    "test_transforms = transform = transforms.Compose([transforms.Resize(225),\n",
    "                              transforms.CenterCrop(32),\n",
    "                              transforms.ToTensor()])\n",
    "\n",
    "trainset = datasets.ImageFolder(data_dir, transform)\n",
    "testset = datasets.ImageFolder(data_dir, transform)\n",
    "\n",
    "num_train =len(trainset)\n",
    "indices = list(range(num_train))\n",
    "np.random.shuffle(indices)\n",
    "split = int(np.floor(valid_size *num_train))\n",
    "valid_idx, train_idx= indices[:split], indices[split:]\n",
    "\n",
    "# define samplers for obtaining training and validation batches\n",
    "train_sampler = SubsetRandomSampler(train_idx)\n",
    "valid_sampler = SubsetRandomSampler(valid_idx)\n",
    "\n",
    "trainloader = torch.utils.data.DataLoader(trainset, batch_size = 32,\n",
    "                                          sampler=train_sampler, num_workers = num_workers)\n",
    "validloader = torch.utils.data.DataLoader(trainset, batch_size=32, \n",
    "                                         sampler=valid_sampler,  num_workers = num_workers)\n",
    "testloader = torch.utils.data.DataLoader(dataset, batch_size = 32, shuffle=True)"
   ]
  },
  {
   "cell_type": "code",
   "execution_count": 95,
   "metadata": {},
   "outputs": [
    {
     "name": "stdout",
     "output_type": "stream",
     "text": [
      "Classifier(\n",
      "  (fc1): Linear(in_features=3072, out_features=512, bias=True)\n",
      "  (fc2): Linear(in_features=512, out_features=100, bias=True)\n",
      "  (fc3): Linear(in_features=100, out_features=5, bias=True)\n",
      ")\n"
     ]
    }
   ],
   "source": [
    "from torch import nn, optim\n",
    "import torch.nn.functional as F\n",
    "\n",
    "color_channels = 3\n",
    "image_width = 32\n",
    "image_height = 32\n",
    "hidden_nodes_1 = 512\n",
    "hidden_nodes_2 = 100\n",
    "classes = ['daisy', 'dandelion', 'rose', 'sunflower', 'tulip']\n",
    "n_classes = len(classes)\n",
    "\n",
    "class Classifier(nn.Module):\n",
    "    def __init__(self):\n",
    "        super().__init__()\n",
    "        \n",
    "        self.fc1 = nn.Linear(image_width * image_height * color_channels, hidden_nodes_1)\n",
    "        self.fc2 = nn.Linear(hidden_nodes_1, hidden_nodes_2)\n",
    "        self.fc3 = nn.Linear(hidden_nodes_2, n_classes)\n",
    "        \n",
    "    def forward(self, x):\n",
    "\n",
    "        x = x.view(x.shape[0], -1)\n",
    "\n",
    "        x = F.relu(self.fc1(x))\n",
    "\n",
    "        x = F.relu(self.fc2(x))\n",
    "\n",
    "        x = F.log_softmax(self.fc3(x), dim=1)\n",
    "        \n",
    "        return x\n",
    "    \n",
    "model = Classifier()\n",
    "print(model)"
   ]
  },
  {
   "cell_type": "code",
   "execution_count": 114,
   "metadata": {},
   "outputs": [],
   "source": [
    "criterion = nn.NLLLoss()\n",
    "\n",
    "optimizer = optim.Adam(model.parameters(), lr = 0.003)"
   ]
  },
  {
   "cell_type": "code",
   "execution_count": 115,
   "metadata": {},
   "outputs": [
    {
     "name": "stdout",
     "output_type": "stream",
     "text": [
      "epoch: 1/50\n",
      "train loss = 2.133771 \t validation loss = 0.059168\n",
      "epoch: 2/50\n",
      "train loss = 1.455557 \t validation loss = 0.053616\n",
      "epoch: 3/50\n",
      "train loss = 1.430445 \t validation loss = 0.056213\n",
      "epoch: 4/50\n",
      "train loss = 1.468969 \t validation loss = 0.054379\n",
      "epoch: 5/50\n",
      "train loss = 1.421063 \t validation loss = 0.049577\n",
      "epoch: 6/50\n",
      "train loss = 1.397651 \t validation loss = 0.051018\n",
      "epoch: 7/50\n",
      "train loss = 1.397890 \t validation loss = 0.055238\n",
      "epoch: 8/50\n",
      "train loss = 1.391219 \t validation loss = 0.056448\n",
      "epoch: 9/50\n",
      "train loss = 1.384485 \t validation loss = 0.054904\n",
      "epoch: 10/50\n",
      "train loss = 1.372911 \t validation loss = 0.049725\n",
      "epoch: 11/50\n",
      "train loss = 1.370232 \t validation loss = 0.046506\n",
      "epoch: 12/50\n",
      "train loss = 1.375208 \t validation loss = 0.048549\n",
      "epoch: 13/50\n",
      "train loss = 1.357682 \t validation loss = 0.048969\n",
      "epoch: 14/50\n",
      "train loss = 1.365099 \t validation loss = 0.053221\n",
      "epoch: 15/50\n",
      "train loss = 1.380653 \t validation loss = 0.049077\n",
      "epoch: 16/50\n",
      "train loss = 1.358907 \t validation loss = 0.052700\n",
      "epoch: 17/50\n",
      "train loss = 1.358499 \t validation loss = 0.059020\n",
      "epoch: 18/50\n",
      "train loss = 1.356429 \t validation loss = 0.047297\n",
      "epoch: 19/50\n",
      "train loss = 1.353670 \t validation loss = 0.047730\n",
      "epoch: 20/50\n",
      "train loss = 1.345793 \t validation loss = 0.058489\n",
      "epoch: 21/50\n",
      "train loss = 1.338510 \t validation loss = 0.061814\n",
      "epoch: 22/50\n",
      "train loss = 1.335462 \t validation loss = 0.056209\n",
      "epoch: 23/50\n",
      "train loss = 1.346227 \t validation loss = 0.045786\n",
      "epoch: 24/50\n",
      "train loss = 1.340321 \t validation loss = 0.051663\n",
      "epoch: 25/50\n",
      "train loss = 1.331119 \t validation loss = 0.059655\n",
      "epoch: 26/50\n",
      "train loss = 1.316404 \t validation loss = 0.046014\n",
      "epoch: 27/50\n",
      "train loss = 1.319769 \t validation loss = 0.053806\n",
      "epoch: 28/50\n",
      "train loss = 1.313268 \t validation loss = 0.047849\n",
      "epoch: 29/50\n",
      "train loss = 1.302624 \t validation loss = 0.048467\n",
      "epoch: 30/50\n",
      "train loss = 1.322797 \t validation loss = 0.045887\n",
      "epoch: 31/50\n",
      "train loss = 1.321377 \t validation loss = 0.046688\n",
      "epoch: 32/50\n",
      "train loss = 1.302766 \t validation loss = 0.055495\n",
      "epoch: 33/50\n",
      "train loss = 1.306210 \t validation loss = 0.052020\n",
      "epoch: 34/50\n",
      "train loss = 1.296043 \t validation loss = 0.050357\n",
      "epoch: 35/50\n",
      "train loss = 1.304148 \t validation loss = 0.048996\n",
      "epoch: 36/50\n",
      "train loss = 1.289962 \t validation loss = 0.050844\n",
      "epoch: 37/50\n",
      "train loss = 1.287390 \t validation loss = 0.047644\n",
      "epoch: 38/50\n",
      "train loss = 1.267905 \t validation loss = 0.048421\n",
      "epoch: 39/50\n",
      "train loss = 1.282577 \t validation loss = 0.057356\n",
      "epoch: 40/50\n",
      "train loss = 1.290993 \t validation loss = 0.046859\n",
      "epoch: 41/50\n",
      "train loss = 1.275360 \t validation loss = 0.051245\n",
      "epoch: 42/50\n",
      "train loss = 1.267663 \t validation loss = 0.045248\n",
      "epoch: 43/50\n",
      "train loss = 1.256435 \t validation loss = 0.056587\n",
      "epoch: 44/50\n",
      "train loss = 1.290218 \t validation loss = 0.050630\n",
      "epoch: 45/50\n",
      "train loss = 1.236084 \t validation loss = 0.055858\n",
      "epoch: 46/50\n",
      "train loss = 1.251603 \t validation loss = 0.056396\n",
      "epoch: 47/50\n",
      "train loss = 1.217039 \t validation loss = 0.061288\n",
      "epoch: 48/50\n",
      "train loss = 1.249857 \t validation loss = 0.050176\n",
      "epoch: 49/50\n",
      "train loss = 1.266584 \t validation loss = 0.065410\n",
      "epoch: 50/50\n",
      "train loss = 1.218692 \t validation loss = 0.064564\n"
     ]
    }
   ],
   "source": [
    "\n",
    "#training the neural networks\n",
    "\n",
    "epochs = 50\n",
    "\n",
    "train_losses, valid_losses = [], []\n",
    "for e in range(epochs):\n",
    "    running_loss = 0\n",
    "    for images, labels in trainloader:\n",
    "        \n",
    "        optimizer.zero_grad()\n",
    "        \n",
    "        log_ps = model(images)\n",
    "        \n",
    "        loss = criterion(log_ps, labels)\n",
    "        \n",
    "        loss.backward()\n",
    "        \n",
    "        optimizer.step()\n",
    "        \n",
    "        running_loss += loss.item()\n",
    "        \n",
    "          \n",
    "    validation_loss = 0\n",
    "    model.eval()\n",
    "    for images, labels in validloader:\n",
    "                \n",
    "        log_ps = model(images)\n",
    "                \n",
    "        loss = criterion(log_ps, labels)\n",
    "                \n",
    "        validation_loss = loss.item()\n",
    "                \n",
    "    train_losses.append(running_loss/len(trainloader))\n",
    "    valid_losses.append(validation_loss/len(validloader))\n",
    "\n",
    "    print(\"epoch: {}/{}\".format(e+1, epochs))\n",
    "    print(\"train loss = {:.6f} \\t validation loss = {:.6f}\" .format(train_losses[-1], valid_losses[-1]))\n",
    "        "
   ]
  },
  {
   "cell_type": "code",
   "execution_count": 116,
   "metadata": {},
   "outputs": [],
   "source": [
    "%matplotlib inline\n",
    "%config InlineBackend.figure_format = 'retina'\n",
    "\n",
    "import matplotlib.pyplot as plt"
   ]
  },
  {
   "cell_type": "code",
   "execution_count": 117,
   "metadata": {},
   "outputs": [
    {
     "data": {
      "text/plain": [
       "<matplotlib.legend.Legend at 0x7f12cf38b940>"
      ]
     },
     "execution_count": 117,
     "metadata": {},
     "output_type": "execute_result"
    },
    {
     "data": {
      "image/png": "[encoded data removed]",
      "text/plain": [
       "<Figure size 432x288 with 1 Axes>"
      ]
     },
     "metadata": {
      "image/png": {
       "height": 250,
       "width": 373
      },
      "needs_background": "light"
     },
     "output_type": "display_data"
    }
   ],
   "source": [
    "plt.plot(train_losses, label = \"train loss\")\n",
    "plt.plot(valid_losses, label = \"valid loss\")\n",
    "plt.legend(frameon=False)"
   ]
  },
  {
   "cell_type": "code",
   "execution_count": 102,
   "metadata": {},
   "outputs": [
    {
     "name": "stdout",
     "output_type": "stream",
     "text": [
      "test loss = 1.052872  Test Accuracy: 0.005\n"
     ]
    }
   ],
   "source": [
    "#Test the trained network\n",
    "epochs = 50\n",
    "\n",
    "test_losses = []\n",
    "\n",
    "for images, labels in testloader:\n",
    "    \n",
    "    test_loss = 0\n",
    "    \n",
    "    accuracy = 0\n",
    "    \n",
    "    optimizer.zero_grad()\n",
    "        \n",
    "    log_ps = model(images)\n",
    "    \n",
    "    test_loss += criterion(log_ps, labels)\n",
    "                \n",
    "    ps = torch.exp(log_ps)\n",
    "    top_p, top_class = ps.topk(1, dim=1)\n",
    "    equals = top_class == labels.view(*top_class.shape)\n",
    "    accuracy += torch.mean(equals.type(torch.FloatTensor))\n",
    "        \n",
    "test_losses.append(test_loss/len(testloader))\n",
    "\n",
    "print(\"test loss = {:.6f} \" .format(train_losses[-1]),\n",
    "     \"Test Accuracy: {:.3f}\".format(accuracy/len(testloader)))"
   ]
  },
  {
   "cell_type": "code",
   "execution_count": 113,
   "metadata": {},
   "outputs": [
    {
     "name": "stdout",
     "output_type": "stream",
     "text": [
      "prediction = sunflower label=dandelion\n"
     ]
    }
   ],
   "source": [
    "#### drawing inference\n",
    "model.eval()\n",
    "\n",
    "dataiter = iter(testloader)\n",
    "\n",
    "images, labels = dataiter.next()\n",
    "\n",
    "img = images[0]\n",
    "\n",
    "img = img.view( 1, 32 * 32 * 3)\n",
    "\n",
    "with torch.no_grad():\n",
    "    output = model.forward(img)\n",
    "    \n",
    "ps = torch.exp(output)\n",
    "\n",
    "prediction, ind = ps.topk(1, dim=1)\n",
    "label_idx = int(labels[0])\n",
    "print(\"prediction = {} label={}\".format(classes[ind], classes[label_idx])) "
   ]
  },
  {
   "cell_type": "code",
   "execution_count": null,
   "metadata": {},
   "outputs": [],
   "source": []
  },
  {
   "cell_type": "code",
   "execution_count": null,
   "metadata": {},
   "outputs": [],
   "source": []
  }
 ],
 "metadata": {
  "kernelspec": {
   "display_name": "Python 3",
   "language": "python",
   "name": "python3"
  },
  "language_info": {
   "codemirror_mode": {
    "name": "ipython",
    "version": 3
   },
   "file_extension": ".py",
   "mimetype": "text/x-python",
   "name": "python",
   "nbconvert_exporter": "python",
   "pygments_lexer": "ipython3",
   "version": "3.7.2"
  }
 },
 "nbformat": 4,
 "nbformat_minor": 2
}
